{
  "nbformat": 4,
  "nbformat_minor": 0,
  "metadata": {
    "colab": {
      "provenance": [],
      "authorship_tag": "ABX9TyNLI4SIwon5T+aNasTBzJLn",
      "include_colab_link": true
    },
    "kernelspec": {
      "name": "python3",
      "display_name": "Python 3"
    },
    "language_info": {
      "name": "python"
    }
  },
  "cells": [
    {
      "cell_type": "markdown",
      "metadata": {
        "id": "view-in-github",
        "colab_type": "text"
      },
      "source": [
        "<a href=\"https://colab.research.google.com/github/Imo50/Data-Science/blob/main/DataScience_1.ipynb\" target=\"_parent\"><img src=\"https://colab.research.google.com/assets/colab-badge.svg\" alt=\"Open In Colab\"/></a>"
      ]
    },
    {
      "cell_type": "code",
      "execution_count": null,
      "metadata": {
        "id": "BA9e5piAywf9"
      },
      "outputs": [],
      "source": [
        "import numpy as np\n",
        "\n",
        "# Create two vectors\n",
        "vector1 = np.array([1, 2, 3])\n",
        "vector2 = np.array([4, 5, 6])"
      ]
    },
    {
      "cell_type": "code",
      "source": [
        "# Vector Addition\n",
        "vector_addition = vector1 + vector2\n",
        "print(\"Vector Addition:\", vector_addition)"
      ],
      "metadata": {
        "colab": {
          "base_uri": "https://localhost:8080/"
        },
        "id": "UPNqnoZPy2NC",
        "outputId": "d448b946-c44e-46e7-df77-c60743888fc4"
      },
      "execution_count": null,
      "outputs": [
        {
          "output_type": "stream",
          "name": "stdout",
          "text": [
            "Vector Addition: [5 7 9]\n"
          ]
        }
      ]
    },
    {
      "cell_type": "code",
      "source": [
        "# Vector Subtraction\n",
        "vector_subtraction = vector1 - vector2\n",
        "print(\"Vector Subtraction:\", vector_subtraction)"
      ],
      "metadata": {
        "colab": {
          "base_uri": "https://localhost:8080/"
        },
        "id": "3pK5Qt4Iy3dH",
        "outputId": "0f7289da-e84d-426c-a880-73c672438a76"
      },
      "execution_count": null,
      "outputs": [
        {
          "output_type": "stream",
          "name": "stdout",
          "text": [
            "Vector Subtraction: [-3 -3 -3]\n"
          ]
        }
      ]
    },
    {
      "cell_type": "code",
      "source": [
        "# Scalar Multiplication\n",
        "scalar = 2\n",
        "scalar_multiplication = scalar * vector1\n",
        "print(\"Scalar Multiplication:\", scalar_multiplication)"
      ],
      "metadata": {
        "colab": {
          "base_uri": "https://localhost:8080/"
        },
        "id": "O-57Mhbgy40V",
        "outputId": "9ada4161-8622-47dd-fa7e-b28b3a9c89ab"
      },
      "execution_count": null,
      "outputs": [
        {
          "output_type": "stream",
          "name": "stdout",
          "text": [
            "Scalar Multiplication: [2 4 6]\n"
          ]
        }
      ]
    },
    {
      "cell_type": "code",
      "source": [
        "# Dot Product (Scalar Product)\n",
        "dot_product = np.dot(vector1, vector2)\n",
        "print(\"Dot Product:\", dot_product)"
      ],
      "metadata": {
        "colab": {
          "base_uri": "https://localhost:8080/"
        },
        "id": "z414dKUdy62l",
        "outputId": "2ce9ff4b-0dfc-4688-fa7a-3bbe36dc75bc"
      },
      "execution_count": null,
      "outputs": [
        {
          "output_type": "stream",
          "name": "stdout",
          "text": [
            "Dot Product: 32\n"
          ]
        }
      ]
    },
    {
      "cell_type": "code",
      "source": [
        "# Cross Product (Vector Product)\n",
        "cross_product = np.cross(vector1, vector2)\n",
        "print(\"Cross Product:\", cross_product)"
      ],
      "metadata": {
        "colab": {
          "base_uri": "https://localhost:8080/"
        },
        "id": "zR_fC_UrzAzy",
        "outputId": "46735dc9-d1dd-428b-86bd-e4cefc462985"
      },
      "execution_count": null,
      "outputs": [
        {
          "output_type": "stream",
          "name": "stdout",
          "text": [
            "Cross Product: [-3  6 -3]\n"
          ]
        }
      ]
    },
    {
      "cell_type": "code",
      "source": [],
      "metadata": {
        "id": "d7Qm5QDTzBo_"
      },
      "execution_count": null,
      "outputs": []
    },
    {
      "cell_type": "code",
      "source": [
        "# Matrix Operations"
      ],
      "metadata": {
        "id": "Y6tMlMv4zF_R"
      },
      "execution_count": null,
      "outputs": []
    },
    {
      "cell_type": "code",
      "source": [
        "# Create two matrices\n",
        "A = np.array([[1, 2], [3, 4]])\n",
        "B = np.array([[5, 6], [7, 8]])"
      ],
      "metadata": {
        "id": "O9WXQzmYzOa3"
      },
      "execution_count": null,
      "outputs": []
    },
    {
      "cell_type": "code",
      "source": [
        "print(\"Matrix A:\\n\", A)\n",
        "print(\"Matrix B:\\n\", B)"
      ],
      "metadata": {
        "colab": {
          "base_uri": "https://localhost:8080/"
        },
        "id": "tI9KlgeGzhmU",
        "outputId": "b1b2e170-6595-400e-bb4b-452ea8c88df3"
      },
      "execution_count": null,
      "outputs": [
        {
          "output_type": "stream",
          "name": "stdout",
          "text": [
            "Matrix A:\n",
            " [[1 2]\n",
            " [3 4]]\n",
            "Matrix B:\n",
            " [[5 6]\n",
            " [7 8]]\n"
          ]
        }
      ]
    },
    {
      "cell_type": "code",
      "source": [
        "# Matrix addition\n",
        "addition = A + B\n",
        "print(\"Matrix Addition:\\n\", addition)"
      ],
      "metadata": {
        "colab": {
          "base_uri": "https://localhost:8080/"
        },
        "id": "lczb4umrznji",
        "outputId": "b4d1b412-9674-412a-9102-fe72ddcc4673"
      },
      "execution_count": null,
      "outputs": [
        {
          "output_type": "stream",
          "name": "stdout",
          "text": [
            "Matrix Addition:\n",
            " [[ 6  8]\n",
            " [10 12]]\n"
          ]
        }
      ]
    },
    {
      "cell_type": "code",
      "source": [
        "# Matrix subtraction\n",
        "subtraction = A - B\n",
        "print(\"Matrix Subtraction:\\n\", subtraction)"
      ],
      "metadata": {
        "colab": {
          "base_uri": "https://localhost:8080/"
        },
        "id": "Wf992LqH0BJE",
        "outputId": "3aaf52f0-3732-4631-cdd7-101f7eedb347"
      },
      "execution_count": null,
      "outputs": [
        {
          "output_type": "stream",
          "name": "stdout",
          "text": [
            "Matrix Subtraction:\n",
            " [[-4 -4]\n",
            " [-4 -4]]\n"
          ]
        }
      ]
    },
    {
      "cell_type": "code",
      "source": [
        "# Matrix multiplication (dot product)\n",
        "multiplication = np.dot(A, B)\n",
        "print(\"Matrix Multiplication:\\n\", multiplication)"
      ],
      "metadata": {
        "colab": {
          "base_uri": "https://localhost:8080/"
        },
        "id": "GKf45gQX0Enu",
        "outputId": "cd6d2aed-f59e-4957-958a-83aad305dd7c"
      },
      "execution_count": null,
      "outputs": [
        {
          "output_type": "stream",
          "name": "stdout",
          "text": [
            "Matrix Multiplication:\n",
            " [[19 22]\n",
            " [43 50]]\n"
          ]
        }
      ]
    },
    {
      "cell_type": "code",
      "source": [
        "# Transpose the matrix\n",
        "transpose = A.T\n",
        "print(\"Original Matrix A:\\n\", A)\n",
        "print(\"Transposed Matrix A:\\n\", transpose)\n",
        "\n",
        "transpose = B.T\n",
        "print(\"Original Matrix B:\\n\", B)\n",
        "print(\"Transposed Matrix B:\\n\", transpose)"
      ],
      "metadata": {
        "colab": {
          "base_uri": "https://localhost:8080/"
        },
        "id": "PamCGUhU0JjU",
        "outputId": "af6f8ead-528d-43ad-a27b-7f167daffcd7"
      },
      "execution_count": null,
      "outputs": [
        {
          "output_type": "stream",
          "name": "stdout",
          "text": [
            "Original Matrix A:\n",
            " [[1 2]\n",
            " [3 4]]\n",
            "Transposed Matrix A:\n",
            " [[1 3]\n",
            " [2 4]]\n",
            "Original Matrix B:\n",
            " [[5 6]\n",
            " [7 8]]\n",
            "Transposed Matrix B:\n",
            " [[5 7]\n",
            " [6 8]]\n"
          ]
        }
      ]
    },
    {
      "cell_type": "code",
      "source": [
        "# Calculate the inverse\n",
        "inverse = np.linalg.inv(A)\n",
        "print(\"Original Matrix A:\\n\", A)\n",
        "print(\"Inverse Matrix A:\\n\", inverse)\n",
        "\n",
        "inverse = np.linalg.inv(B)\n",
        "print(\"Original Matrix B:\\n\", B)\n",
        "print(\"Inverse Matrix B:\\n\", inverse)"
      ],
      "metadata": {
        "colab": {
          "base_uri": "https://localhost:8080/"
        },
        "id": "QYLChuUC0Mbd",
        "outputId": "402b76d9-5568-400f-b2db-53fd776224f1"
      },
      "execution_count": null,
      "outputs": [
        {
          "output_type": "stream",
          "name": "stdout",
          "text": [
            "Original Matrix A:\n",
            " [[1 2]\n",
            " [3 4]]\n",
            "Inverse Matrix A:\n",
            " [[-2.   1. ]\n",
            " [ 1.5 -0.5]]\n",
            "Original Matrix B:\n",
            " [[5 6]\n",
            " [7 8]]\n",
            "Inverse Matrix B:\n",
            " [[-4.   3. ]\n",
            " [ 3.5 -2.5]]\n"
          ]
        }
      ]
    },
    {
      "cell_type": "code",
      "source": [],
      "metadata": {
        "id": "6zT8Pc490rSK"
      },
      "execution_count": null,
      "outputs": []
    },
    {
      "cell_type": "code",
      "source": [
        "# Eigen Vectors & Eigen Values"
      ],
      "metadata": {
        "id": "VsQ0kBYO05na"
      },
      "execution_count": null,
      "outputs": []
    },
    {
      "cell_type": "code",
      "source": [
        "# Define a square matrix\n",
        "A1 = np.array([[8, 6, 4, 2],\n",
        "               [1, 3, 5, 7],\n",
        "               [9, 2, 6, 3],\n",
        "               [4, 7, 1, 8]])\n",
        "\n",
        "# Compute eigenvalues and eigenvectors\n",
        "eigenvalues, eigenvectors = np.linalg.eig(A1)\n",
        "\n",
        "print(\"Eigenvalues:\")\n",
        "print(eigenvalues)\n",
        "\n",
        "print(\"\\nEigenvectors:\")\n",
        "print(eigenvectors)"
      ],
      "metadata": {
        "colab": {
          "base_uri": "https://localhost:8080/"
        },
        "id": "ntLVXrno0_vk",
        "outputId": "26de91f8-4d22-4aa3-8d10-deb3e4cf6fa8"
      },
      "execution_count": null,
      "outputs": [
        {
          "output_type": "stream",
          "name": "stdout",
          "text": [
            "Eigenvalues:\n",
            "[19.00908546+0.j          7.36965912+0.j         -0.68937229+3.13110794j\n",
            " -0.68937229-3.13110794j]\n",
            "\n",
            "Eigenvectors:\n",
            "[[-0.51969777+0.j          0.36415515+0.j         -0.28108031-0.32939553j\n",
            "  -0.28108031+0.32939553j]\n",
            " [-0.42341248+0.j         -0.23905646+0.j          0.62554638+0.j\n",
            "   0.62554638-0.j        ]\n",
            " [-0.54160882+0.j          0.62505996+0.j          0.11650719+0.51660755j\n",
            "   0.11650719-0.51660755j]\n",
            " [-0.50724352+0.j         -0.64772146+0.j         -0.3727613 -0.04214128j\n",
            "  -0.3727613 +0.04214128j]]\n"
          ]
        }
      ]
    },
    {
      "cell_type": "code",
      "source": [],
      "metadata": {
        "id": "veW8V6ez1YIq"
      },
      "execution_count": null,
      "outputs": []
    },
    {
      "cell_type": "code",
      "source": [
        "# Statistics & Probability"
      ],
      "metadata": {
        "id": "ynKqBFor154q"
      },
      "execution_count": null,
      "outputs": []
    },
    {
      "cell_type": "code",
      "source": [
        "# Dataset\n",
        "data = [10, 20, 30, 40, 50, 60, 70, 80, 90, 10]"
      ],
      "metadata": {
        "id": "a3fcDK2b2b2q"
      },
      "execution_count": null,
      "outputs": []
    },
    {
      "cell_type": "code",
      "source": [
        "# Calculate mean\n",
        "mean_value = np.mean(data)\n",
        "print(\"Mean:\", mean_value)"
      ],
      "metadata": {
        "colab": {
          "base_uri": "https://localhost:8080/"
        },
        "id": "lLsQcgWS2cZX",
        "outputId": "afea8020-c834-4af8-abad-d697503602ea"
      },
      "execution_count": null,
      "outputs": [
        {
          "output_type": "stream",
          "name": "stdout",
          "text": [
            "Mean: 46.0\n"
          ]
        }
      ]
    },
    {
      "cell_type": "code",
      "source": [
        "# Calculate median\n",
        "median_value = np.median(data)\n",
        "print(\"Median:\", median_value)"
      ],
      "metadata": {
        "colab": {
          "base_uri": "https://localhost:8080/"
        },
        "id": "A9R734Ah2eT5",
        "outputId": "7a365e9c-00ca-4ea1-e790-44639df38e6a"
      },
      "execution_count": null,
      "outputs": [
        {
          "output_type": "stream",
          "name": "stdout",
          "text": [
            "Median: 45.0\n"
          ]
        }
      ]
    },
    {
      "cell_type": "code",
      "source": [
        "from scipy import stats\n",
        "\n",
        "# Calculate mode\n",
        "mode_value = stats.mode(data)\n",
        "\n",
        "# Check if mode_value.mode is a scalar or an array\n",
        "if mode_value.mode.size == 1:\n",
        "    print(\"Mode:\", mode_value.mode)\n",
        "else:\n",
        "    print(\"Mode:\", mode_value.mode[0])"
      ],
      "metadata": {
        "colab": {
          "base_uri": "https://localhost:8080/"
        },
        "id": "Eq7-ncYE2mQ6",
        "outputId": "4101cfc9-b0f2-47fa-b811-3b3f2b28c12d"
      },
      "execution_count": null,
      "outputs": [
        {
          "output_type": "stream",
          "name": "stdout",
          "text": [
            "Mode: 10\n"
          ]
        }
      ]
    },
    {
      "cell_type": "code",
      "source": [
        "# Calculate variance\n",
        "variance_value = np.var(data)\n",
        "print(\"Variance:\", variance_value)"
      ],
      "metadata": {
        "colab": {
          "base_uri": "https://localhost:8080/"
        },
        "id": "vsfNxRvf3mAm",
        "outputId": "5bfad2fe-6f8d-4e45-d9ee-6f8040db14a2"
      },
      "execution_count": null,
      "outputs": [
        {
          "output_type": "stream",
          "name": "stdout",
          "text": [
            "Variance: 744.0\n"
          ]
        }
      ]
    },
    {
      "cell_type": "code",
      "source": [
        "# Calculate standard deviation\n",
        "std_deviation = np.std(data)\n",
        "print(\"Standard Deviation:\", std_deviation)"
      ],
      "metadata": {
        "colab": {
          "base_uri": "https://localhost:8080/"
        },
        "id": "FqwQUgyt39xi",
        "outputId": "01514971-a981-409e-8df7-c580eb79eaf3"
      },
      "execution_count": null,
      "outputs": [
        {
          "output_type": "stream",
          "name": "stdout",
          "text": [
            "Standard Deviation: 27.27636339397171\n"
          ]
        }
      ]
    },
    {
      "cell_type": "code",
      "source": [],
      "metadata": {
        "id": "BCmygtsE4AdY"
      },
      "execution_count": null,
      "outputs": []
    },
    {
      "cell_type": "code",
      "source": [
        "import statistics\n",
        "\n",
        "# Calculate mean, median, mode, variance, and standard deviation\n",
        "mean_value = statistics.mean(data)\n",
        "median_value = statistics.median(data)\n",
        "mode_value = statistics.mode(data)  # Note: statistics.mode() raises an error if there is no unique mode\n",
        "variance_value = statistics.variance(data)\n",
        "std_deviation = statistics.stdev(data)\n",
        "\n",
        "print(\"Mean:\", mean_value)\n",
        "print(\"Median:\", median_value)\n",
        "print(\"Mode:\", mode_value)\n",
        "print(\"Variance:\", variance_value)\n",
        "print(\"Standard Deviation:\", std_deviation)"
      ],
      "metadata": {
        "colab": {
          "base_uri": "https://localhost:8080/"
        },
        "id": "6DQWGqmP4IPT",
        "outputId": "49f470f4-b664-4982-ea69-bc73a9942cf5"
      },
      "execution_count": null,
      "outputs": [
        {
          "output_type": "stream",
          "name": "stdout",
          "text": [
            "Mean: 46\n",
            "Median: 45.0\n",
            "Mode: 10\n",
            "Variance: 826.6666666666666\n",
            "Standard Deviation: 28.751811537130433\n"
          ]
        }
      ]
    },
    {
      "cell_type": "code",
      "source": [],
      "metadata": {
        "id": "_1aAQwDu4LX8"
      },
      "execution_count": null,
      "outputs": []
    },
    {
      "cell_type": "code",
      "source": [
        "# Probability Distribution"
      ],
      "metadata": {
        "id": "D-_XRdXp4XuT"
      },
      "execution_count": null,
      "outputs": []
    },
    {
      "cell_type": "code",
      "source": [
        "# Normal Distribution (Gaussian Distribution)"
      ],
      "metadata": {
        "id": "VUHtSnv54bPZ"
      },
      "execution_count": null,
      "outputs": []
    },
    {
      "cell_type": "code",
      "source": [
        "import matplotlib.pyplot as plt\n",
        "\n",
        "# Parameters for the normal distribution\n",
        "mean = 0  # Mean (center) of the distribution\n",
        "std_dev = 1  # Standard deviation (spread) of the distribution\n",
        "sample_size = 1000  # Number of data points\n",
        "\n",
        "# Generate random data from a normal distribution\n",
        "data = np.random.normal(mean, std_dev, sample_size)\n",
        "\n",
        "# Print the first 10 data points\n",
        "print(\"First 10 data points:\", data[:10])"
      ],
      "metadata": {
        "colab": {
          "base_uri": "https://localhost:8080/"
        },
        "id": "Cw8-CTj44lEI",
        "outputId": "1ba1af0e-2a7c-4191-a115-c9524f49c2c1"
      },
      "execution_count": null,
      "outputs": [
        {
          "output_type": "stream",
          "name": "stdout",
          "text": [
            "First 10 data points: [-0.11187233 -1.38694319 -0.76275906  1.13995043  0.75617715  0.01869958\n",
            " -0.04557515 -0.15018419 -0.76589829  0.29255761]\n"
          ]
        }
      ]
    },
    {
      "cell_type": "code",
      "source": [
        "# Plot the histogram of the data\n",
        "plt.hist(data, bins=30, density=True, alpha=0.6, color='g', edgecolor='black')\n",
        "\n",
        "# Add a title and labels\n",
        "plt.title(\"Normal Distribution (Gaussian Distribution)\")\n",
        "plt.xlabel(\"Value\")\n",
        "plt.ylabel(\"Frequency\")\n",
        "\n",
        "# Plot the probability density function (PDF)\n",
        "from scipy.stats import norm\n",
        "x = np.linspace(-4, 4, 1000)  # Range of x values\n",
        "plt.plot(x, norm.pdf(x, mean, std_dev), 'r-', lw=2, label='PDF')\n",
        "\n",
        "# Add a legend\n",
        "plt.legend()\n",
        "\n",
        "# Show the plot\n",
        "plt.show()"
      ],
      "metadata": {
        "colab": {
          "base_uri": "https://localhost:8080/",
          "height": 472
        },
        "id": "ep4tyefC6za5",
        "outputId": "2fcca807-b0d5-424d-c74b-d557bd3cf14d"
      },
      "execution_count": null,
      "outputs": [
        {
          "output_type": "display_data",
          "data": {
            "text/plain": [
              "<Figure size 640x480 with 1 Axes>"
            ],
            "image/png": "[encoded data removed]"
          },
          "metadata": {}
        }
      ]
    },
    {
      "cell_type": "code",
      "source": [
        "from scipy.stats import norm\n",
        "\n",
        "# Calculate the Probability Density Function for a specific value\n",
        "value = 1.5\n",
        "pdf_value = norm.pdf(value, mean, std_dev)\n",
        "print(f\"PDF at x = {value}: {pdf_value}\")"
      ],
      "metadata": {
        "colab": {
          "base_uri": "https://localhost:8080/"
        },
        "id": "JnLQXcC361bk",
        "outputId": "c5a447db-6a73-4aa0-ba83-9553642744e0"
      },
      "execution_count": null,
      "outputs": [
        {
          "output_type": "stream",
          "name": "stdout",
          "text": [
            "PDF at x = 1.5: 0.12951759566589174\n"
          ]
        }
      ]
    },
    {
      "cell_type": "code",
      "source": [],
      "metadata": {
        "id": "V0Lj7-id7Qma"
      },
      "execution_count": null,
      "outputs": []
    }
  ]
}